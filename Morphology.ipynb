{
 "cells": [
  {
   "cell_type": "markdown",
   "metadata": {},
   "source": [
    "Morphology - counting objects\n",
    "Morphology (or mathematical morphology) is a framework and a collection of image processing methods for measuring and analyzing basic shapes. Morphology is usually applied to binary images but can be used with grayscale also. A binary image is an image in which each pixel takes only two values, usually 0 and 1. Binary images are often the result of thresholding an image, for example with the intention of counting objects or measuring their size. A good summary of morphology and how it works is in http://en.wikipedia.org/wiki/Mathematical_morphology.\n",
    "Morphological operations are included in the scipy.ndimage module morphology. Counting and measurement functions for binary images are in the scipy.ndimage mod- ule measurements. Let’s look at a simple example of how to use them.\n",
    "Consider the binary image in Figure 1.12. Counting the objects in that image can be done using:"
   ]
  },
  {
   "cell_type": "code",
   "execution_count": 5,
   "metadata": {
    "collapsed": false
   },
   "outputs": [
    {
     "name": "stdout",
     "output_type": "stream",
     "text": [
      "Number of objects: 45\n"
     ]
    }
   ],
   "source": [
    "from scipy.ndimage import measurements,morphology\n",
    "from numpy import *\n",
    "from PIL import Image\n",
    "# load image and threshold to make sure it is binary\n",
    "im = array(Image.open('data/houses.png').convert('L')) # segmentation image, see Section 9.3\n",
    "im = 1*(im<128) # thresholding\n",
    "labels, nbr_objects = measurements.label(im)\n",
    "print \"Number of objects:\", nbr_objects"
   ]
  },
  {
   "cell_type": "markdown",
   "metadata": {},
   "source": [
    "This loads the image and makes sure it is binary by thresholding. Multiplying with 1 converts the boolean array to a binary one. Then the function label() finds the individual objects and assigns integer labels to pixels according to which object they belong to. Figure 1.12b shows the labels array. The graylevel values indicate object index. As you can see, there are small connections between some of the objects. Using an operation called binary opening, we can remove them."
   ]
  },
  {
   "cell_type": "code",
   "execution_count": 6,
   "metadata": {
    "collapsed": false
   },
   "outputs": [
    {
     "name": "stdout",
     "output_type": "stream",
     "text": [
      "Number of objects: 48\n"
     ]
    }
   ],
   "source": [
    "# morphology - opening to separate objects better\n",
    "im_open = morphology.binary_opening(im,ones((9,5)),iterations=2)\n",
    "labels_open, nbr_objects_open = measurements.label(im_open) \n",
    "print \"Number of objects:\", nbr_objects_open"
   ]
  },
  {
   "cell_type": "code",
   "execution_count": null,
   "metadata": {
    "collapsed": true
   },
   "outputs": [],
   "source": []
  }
 ],
 "metadata": {
  "anaconda-cloud": {},
  "kernelspec": {
   "display_name": "Python [conda env:astroconda]",
   "language": "python",
   "name": "conda-env-astroconda-py"
  },
  "language_info": {
   "codemirror_mode": {
    "name": "ipython",
    "version": 2
   },
   "file_extension": ".py",
   "mimetype": "text/x-python",
   "name": "python",
   "nbconvert_exporter": "python",
   "pygments_lexer": "ipython2",
   "version": "2.7.12"
  }
 },
 "nbformat": 4,
 "nbformat_minor": 1
}
