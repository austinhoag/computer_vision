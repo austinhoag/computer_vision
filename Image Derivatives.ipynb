{
 "cells": [
  {
   "cell_type": "markdown",
   "metadata": {},
   "source": [
    "# Image Derivatives\n",
    "How the image intensity changes over the image is important information, used for many applications as we will see throughout this book. The intensity change is de- scribed with the x and y derivatives $I_x$ and $I_y$ of the graylevel image I (for color images, derivatives are usually taken for each color channel). The image gradient is the vector $\\nabla I = [I_x I_y]^T$. The gradient has two important properties, the gradient magnitude\n",
    "$$ | \\nabla I | = \\sqrt{I_x^2 + I_y^2}$$ ,\n",
    "which describes how strong the image intensity change is, and the gradient angle\n",
    "$$ \\alpha = \\mathrm{arctan2}(I_y,I_x)$$ ,\n",
    "which indicates the direction of largest intensity change at each point (pixel) in the image. The NumPy function arctan2() returns the signed angle in radians, in the interval  $-\\pi ... \\pi$.\n",
    "\n",
    "Computing the image derivatives can be done using discrete approximations. These are most easily implemented as convolutions\n",
    "$$I_x = I * Dx$$ and $$I_y = I * Dy.$$\n",
    "Two common choices for Dx and Dy are the Prewitt filters\n",
    "$$\n",
    "D_x = \\left(\\begin{array}{ccc} \n",
    "-1 & 0 & 1 \\\\\n",
    "-1 & 0 & 1 \\\\\n",
    "-1 & 0 & 1\n",
    "\\end{array}\\right)\n",
    "\\quad \\mathrm{and}\\quad D_y = \\left(\\begin{array}{ccc} \n",
    "-1 & -1 & -1 \\\\\n",
    "0 & 0 & 0 \\\\\n",
    "1 & 1 & 1\n",
    "\\end{array}\\right)\n",
    "$$\n",
    " and Sobel filters\n",
    "$$\n",
    "D_x = \\left(\\begin{array}{ccc} \n",
    "-1 & 0 & 1 \\\\\n",
    "-2 & 0 & 2 \\\\\n",
    "-1 & 0 & 1\n",
    "\\end{array}\\right)\n",
    "\\quad \\mathrm{and} \\quad D_y = \\left(\\begin{array}{ccc} \n",
    "-1 & -2 & -1 \\\\\n",
    "0 & 0 & 0 \\\\\n",
    "1 & 2 & 1\n",
    "\\end{array}\\right)\n",
    "$$\n",
    "\n",
    "These derivative filters are easy to implement using the standard convolution available in the scipy.ndimage.filters module. For example:"
   ]
  },
  {
   "cell_type": "code",
   "execution_count": 4,
   "metadata": {
    "collapsed": false
   },
   "outputs": [],
   "source": [
    "from numpy import *\n",
    "from PIL import Image\n",
    "from scipy.ndimage import filters\n",
    "\n",
    "im = array(Image.open('empire.jpg').convert('L'))\n",
    "#Sobel derivative filters\n",
    "imx = zeros(im.shape)\n",
    "filters.sobel(im,1,imx)\n",
    "imy = zeros(im.shape)\n",
    "filters.sobel(im,0,imy)\n",
    "magnitude = sqrt(imx**2+imy**2)\n"
   ]
  },
  {
   "cell_type": "markdown",
   "metadata": {},
   "source": [
    "This computes x and y derivatives and gradient magnitude using the Sobel filter. The second argument selects the x or y derivative, and the third stores the output. Figure 1.10 shows an image with derivatives computed using the Sobel filter. In the two derivative images, positive derivatives are shown with bright pixels and negative derivatives are dark. Gray areas have values close to zero.\n",
    "Using this approach has the drawback that derivatives are taken on the scale de- termined by the image resolution. To be more robust to image noise and to compute derivatives at any scale, Gaussian derivative filters can be used:\n",
    "\n",
    "$$ I_x = I * G_{\\sigma x} \\quad \\mathrm{and} \\quad I_y = I * G_{\\sigma y}$$\n",
    "\n",
    "where $G_{\\sigma x}$ and $G_{\\sigma y}$ are the x and y derivatives of $G_{\\sigma}$, a Gaussian function with standard deviation $\\sigma$.\n",
    "\n",
    "The /filters.gaussian_filter() function we used for blurring earlier can also take extra arguments to compute Gaussian derivatives instead. To try this on an image, simply do:\n"
   ]
  },
  {
   "cell_type": "code",
   "execution_count": null,
   "metadata": {
    "collapsed": true
   },
   "outputs": [],
   "source": []
  }
 ],
 "metadata": {
  "kernelspec": {
   "display_name": "Python [conda env:astroconda]",
   "language": "python",
   "name": "conda-env-astroconda-py"
  },
  "language_info": {
   "codemirror_mode": {
    "name": "ipython",
    "version": 2
   },
   "file_extension": ".py",
   "mimetype": "text/x-python",
   "name": "python",
   "nbconvert_exporter": "python",
   "pygments_lexer": "ipython2",
   "version": "2.7.12"
  }
 },
 "nbformat": 4,
 "nbformat_minor": 1
}
